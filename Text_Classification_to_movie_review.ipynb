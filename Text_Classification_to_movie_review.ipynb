{
 "cells": [
  {
   "cell_type": "markdown",
   "metadata": {},
   "source": [
    "# 영화 리뷰를 사용한 텍스트 분류\n",
    "- IMDB 데이터셋 이용\n",
    "- data는 리뷰 단어를 정수 시퀀스로 변환되어 있음\n",
    "- label은 긍정(positive), 부정(negative)로 분류"
   ]
  },
  {
   "cell_type": "markdown",
   "metadata": {},
   "source": [
    "1. data load\n",
    "2. data preporcessing\n",
    "3. data 분리(train, test)\n",
    "4. 모델 구성(model) : model정의, model.add, model.summary\n",
    "5. model.compile(optimizer, loss, metrics)\n",
    "6. model.fit(train_x, train_y, epoch, batch_size, validation_data, verbose)\n",
    "7. model.evaluate(test_x, test_y)"
   ]
  },
  {
   "cell_type": "code",
   "execution_count": 160,
   "metadata": {},
   "outputs": [
    {
     "name": "stdout",
     "output_type": "stream",
     "text": [
      "1.13.2\n",
      "1.16.1\n"
     ]
    }
   ],
   "source": [
    "from __future__ import absolute_import, division, print_function, unicode_literals\n",
    "\n",
    "# !pip install -q tf-nightly-2.0-preview\n",
    "import tensorflow as tf\n",
    "from tensorflow import keras\n",
    "\n",
    "import numpy as np\n",
    "\n",
    "print(tf.__version__)\n",
    "print(np.__version__)"
   ]
  },
  {
   "cell_type": "code",
   "execution_count": 161,
   "metadata": {},
   "outputs": [],
   "source": [
    "imdb = keras.datasets.imdb\n",
    "\n",
    "(train_data, train_labels), (test_data, test_labels) = imdb.load_data(num_words=10000)"
   ]
  },
  {
   "cell_type": "code",
   "execution_count": 162,
   "metadata": {},
   "outputs": [
    {
     "name": "stdout",
     "output_type": "stream",
     "text": [
      "훈련 샘플: 25000, 레이블: 25000\n"
     ]
    }
   ],
   "source": [
    "print(\"훈련 샘플: {}, 레이블: {}\".format(len(train_data), len(train_labels)))"
   ]
  },
  {
   "cell_type": "code",
   "execution_count": 163,
   "metadata": {},
   "outputs": [
    {
     "name": "stdout",
     "output_type": "stream",
     "text": [
      "[1, 259, 37, 100, 169, 1653, 1107, 11, 14, 418, 7, 595, 3882, 8, 28, 68, 419, 8932, 75, 28, 4, 2, 8802, 5227, 173, 58, 7164, 322, 19, 2, 32, 120, 41, 648, 2, 1990, 39, 2448, 2, 34, 35, 4595, 492, 150, 59, 9, 2, 7143, 5170, 32, 120, 4, 3904, 1873, 4, 766, 38, 6204, 820, 6133, 8, 3177, 2, 9106, 41, 957, 11, 620, 1093, 75, 28, 4, 658, 37, 517, 46, 34, 2, 6, 4057, 37, 43, 571, 8, 30, 27, 577, 442, 3072, 19, 90, 88, 29, 385, 99, 946, 5, 630, 34, 5330, 27, 668, 7698, 260, 383, 19, 41, 3586, 5, 95, 2, 41, 56, 75, 28, 4, 554, 37, 9, 6866, 2, 34, 27, 8176, 5, 37, 266, 344, 5, 3936, 27, 1633, 25, 67, 45, 32, 2, 933, 3374, 4, 64, 542, 561, 11, 14, 3388, 2446, 7, 5174, 9, 54, 4, 1246, 1496, 27, 6256, 2, 45, 6, 52, 155, 14, 2803, 16, 324, 23, 374, 88, 900, 51, 6, 437, 7, 3269, 22, 12, 62, 30, 48, 15, 232, 37, 1291, 2719, 3882, 8, 30, 928, 11, 14, 2, 9, 66, 622, 57, 594, 91, 84, 104, 2719, 26, 2140, 75, 219, 14, 2320, 20, 95, 276, 23, 1456, 255, 4, 3612, 449, 61, 558, 12, 16, 6, 2, 17, 8, 63, 31, 16, 433, 51, 9, 170, 23, 11, 1898, 134, 504, 1195, 1195, 1195]\n"
     ]
    }
   ],
   "source": [
    "print(train_data[13])"
   ]
  },
  {
   "cell_type": "code",
   "execution_count": 164,
   "metadata": {},
   "outputs": [
    {
     "data": {
      "text/plain": [
       "(218, 189)"
      ]
     },
     "execution_count": 164,
     "metadata": {},
     "output_type": "execute_result"
    }
   ],
   "source": [
    "len(train_data[0]), len(train_data[1])"
   ]
  },
  {
   "cell_type": "code",
   "execution_count": 165,
   "metadata": {},
   "outputs": [],
   "source": [
    "word_index = imdb.get_word_index()"
   ]
  },
  {
   "cell_type": "markdown",
   "metadata": {},
   "source": [
    "```\n",
    "word_index.items()\n",
    "```"
   ]
  },
  {
   "cell_type": "markdown",
   "metadata": {},
   "source": [
    "- output\n",
    "```\n",
    "dict_items([('fawn', 34701), ('tsukino', 52006), ('nunnery', 52007), ('sonja', 16816), ('vani', 63951), ('woods', 1408), ('spiders', 16115), ('hanging', 2345), ('woody', 2289), ('trawling', 52008), (\"hold's\", 52009), ('comically', 11307), ('localized', 40830), ('disobeying', 30568), (\"'royale\", 52010), (\"harpo's\", 40831), ('canet', 52011), ('aileen', 19313), ('acurately', 52012), (\"diplomat's\", 52013), ('rickman', 25242), ('arranged', 6746), ('rumbustious', 52014), ('familiarness', 52015), (\"spider'\", 52016),\n",
    "```"
   ]
  },
  {
   "cell_type": "code",
   "execution_count": 56,
   "metadata": {},
   "outputs": [],
   "source": [
    "word_index = {k:(v+3) for k,v in word_index.items()}\n",
    "word_index[\"<PAD>\"] = 0\n",
    "word_index[\"<START>\"] = 1\n",
    "word_index[\"<UNK>\"] = 2  # unknown\n",
    "word_index[\"<UNUSED>\"] = 3"
   ]
  },
  {
   "cell_type": "code",
   "execution_count": 59,
   "metadata": {},
   "outputs": [
    {
     "name": "stdout",
     "output_type": "stream",
     "text": [
      "<UNUSED>\n"
     ]
    }
   ],
   "source": [
    "for k, v in word_index.items():\n",
    "    if v == 3:\n",
    "        print(k)"
   ]
  },
  {
   "cell_type": "markdown",
   "metadata": {},
   "source": [
    "### Dictionary의 key와 Value 위치 바꾸기"
   ]
  },
  {
   "cell_type": "code",
   "execution_count": 63,
   "metadata": {},
   "outputs": [],
   "source": [
    "reverse_word_index = dict([(value, key) for (key, value) in word_index.items()])"
   ]
  },
  {
   "cell_type": "markdown",
   "metadata": {},
   "source": [
    "```\n",
    "reverse_word_index\n",
    "```"
   ]
  },
  {
   "cell_type": "markdown",
   "metadata": {},
   "source": [
    "- output\n",
    "```\n",
    "{34704: 'fawn',\n",
    " 52009: 'tsukino',\n",
    " 52010: 'nunnery',\n",
    " 16819: 'sonja',\n",
    " 63954: 'vani',\n",
    " 1411: 'woods',\n",
    " 16118: 'spiders',\n",
    " 2348: 'hanging',\n",
    " 2292: 'woody',\n",
    " 52011: 'trawling',\n",
    " 52012: \"hold's\",\n",
    " 11310: 'comically',\n",
    " 40833: 'localized',\n",
    " 30571: 'disobeying',\n",
    " 52013: \"'royale\",\n",
    " ```"
   ]
  },
  {
   "cell_type": "markdown",
   "metadata": {},
   "source": [
    "### reverse_word_index를 통해 정수 시퀀스로 나열된 리뷰를 문자열로 매핑"
   ]
  },
  {
   "cell_type": "code",
   "execution_count": 84,
   "metadata": {},
   "outputs": [],
   "source": [
    "def decode_review(text):\n",
    "    return ' '.join([reverse_word_index.get(i, _) for i in text])"
   ]
  },
  {
   "cell_type": "markdown",
   "metadata": {},
   "source": [
    "```\n",
    "dictionary.get(key, value)\n",
    "```\n",
    "- get()은 딕셔너리의 값을 가져올 때 사용하는 함수"
   ]
  },
  {
   "cell_type": "code",
   "execution_count": 85,
   "metadata": {},
   "outputs": [
    {
     "data": {
      "text/plain": [
       "\"<START> this film was just brilliant casting location scenery story direction everyone's really suited the part they played and you could just imagine being there robert <UNK> is an amazing actor and now the same being director <UNK> father came from the same scottish island as myself so i loved the fact there was a real connection with this film the witty remarks throughout the film were great it was just brilliant so much that i bought the film as soon as it was released for <UNK> and would recommend it to everyone to watch and the fly fishing was amazing really cried at the end it was so sad and you know what they say if you cry at a film it must have been good and this definitely was also <UNK> to the two little boy's that played the <UNK> of norman and paul they were just brilliant children are often left out of the <UNK> list i think because the stars that play them all grown up are such a big profile for the whole film but these children are amazing and should be praised for what they have done don't you think the whole story was so lovely because it was true and was someone's life after all that was shared with us all\""
      ]
     },
     "execution_count": 85,
     "metadata": {},
     "output_type": "execute_result"
    }
   ],
   "source": [
    "decode_review(train_data[0])"
   ]
  },
  {
   "cell_type": "markdown",
   "metadata": {},
   "source": [
    "## 데이터 준비\n",
    "- 원-핫 인코딩(one-hot encoding)은 정수 배열을 0과 1로 이루어진 벡터로 변환합니다. 예를 들어 배열 [3, 5]을 인덱스 3과 5만 1이고 나머지는 모두 0인 10,000차원 벡터로 변환할 수 있습니다. 그다음 실수 벡터 데이터를 다룰 수 있는 층-Dense 층-을 신경망의 첫 번째 층으로 사용합니다. 이 방법은 num_words * num_reviews 크기의 행렬이 필요하기 때문에 메모리를 많이 사용\n",
    "- 정수 배열의 길이가 모두 같도록 패딩(padding)을 추가해 max_length * num_reviews 크기의 정수 텐서를 만듭니다. 이런 형태의 텐서를 다룰 수 있는 임베딩(embedding) 층을 신경망의 첫 번째 층으로 사용"
   ]
  },
  {
   "cell_type": "markdown",
   "metadata": {},
   "source": [
    "### 리뷰마다 길이가 다름으로 길이 맞춤 : pad_sequences\n",
    "- value : padding에 넣을 값 --> 여기서는 *word_index['<PAD'>]*는 \"0\"\n",
    "- padding : \"post\"는 뒤쪽에 padding, \"pre\"는 앞쪽에 padding\n",
    "```\n",
    "dict = {'아':0, '이':1, '우':2}\n",
    "sample_a = []\n",
    "sample_b = []\n",
    "num = np.arange(1,4)\n",
    "for i in num:\n",
    "    sample_a.append(num)\n",
    "sample_a_ = keras.preprocessing.sequence.pad_sequences(sample_a,\n",
    "                                                       value=0,\n",
    "                                                       padding='post',\n",
    "                                                       maxlen=10)\n",
    "sample_b_ = keras.preprocessing.sequence.pad_sequences(sample_a,\n",
    "                                                       value=dict['이'],\n",
    "                                                       padding='post',\n",
    "                                                       maxlen=10)\n",
    "print(sample_a_)\n",
    "print(sample_b_)\n",
    "```\n",
    "- output\n",
    "\n",
    "```\n",
    "[[1 2 3 0 0 0 0 0 0 0]\n",
    " [1 2 3 0 0 0 0 0 0 0]\n",
    " [1 2 3 0 0 0 0 0 0 0]]\n",
    "[[1 2 3 1 1 1 1 1 1 1]\n",
    " [1 2 3 1 1 1 1 1 1 1]\n",
    " [1 2 3 1 1 1 1 1 1 1]]\n",
    " ```"
   ]
  },
  {
   "cell_type": "code",
   "execution_count": 105,
   "metadata": {},
   "outputs": [],
   "source": [
    "train_data = keras.preprocessing.sequence.pad_sequences(train_data,\n",
    "                                                        value=word_index[\"<PAD>\"],\n",
    "                                                        padding='post',\n",
    "                                                        maxlen=256)\n",
    "\n",
    "test_data = keras.preprocessing.sequence.pad_sequences(test_data,\n",
    "                                                       value=word_index[\"<PAD>\"],\n",
    "                                                       padding='post',\n",
    "                                                       maxlen=256)"
   ]
  },
  {
   "cell_type": "code",
   "execution_count": 132,
   "metadata": {},
   "outputs": [
    {
     "data": {
      "text/plain": [
       "(256, 256)"
      ]
     },
     "execution_count": 132,
     "metadata": {},
     "output_type": "execute_result"
    }
   ],
   "source": [
    "len(train_data[0]), len(train_data[1])"
   ]
  },
  {
   "cell_type": "code",
   "execution_count": 133,
   "metadata": {},
   "outputs": [
    {
     "name": "stdout",
     "output_type": "stream",
     "text": [
      "[   1   14   22   16   43  530  973 1622 1385   65  458 4468   66 3941\n",
      "    4  173   36  256    5   25  100   43  838  112   50  670    2    9\n",
      "   35  480  284    5  150    4  172  112  167    2  336  385   39    4\n",
      "  172 4536 1111   17  546   38   13  447    4  192   50   16    6  147\n",
      " 2025   19   14   22    4 1920 4613  469    4   22   71   87   12   16\n",
      "   43  530   38   76   15   13 1247    4   22   17  515   17   12   16\n",
      "  626   18    2    5   62  386   12    8  316    8  106    5    4 2223\n",
      " 5244   16  480   66 3785   33    4  130   12   16   38  619    5   25\n",
      "  124   51   36  135   48   25 1415   33    6   22   12  215   28   77\n",
      "   52    5   14  407   16   82    2    8    4  107  117 5952   15  256\n",
      "    4    2    7 3766    5  723   36   71   43  530  476   26  400  317\n",
      "   46    7    4    2 1029   13  104   88    4  381   15  297   98   32\n",
      " 2071   56   26  141    6  194 7486   18    4  226   22   21  134  476\n",
      "   26  480    5  144   30 5535   18   51   36   28  224   92   25  104\n",
      "    4  226   65   16   38 1334   88   12   16  283    5   16 4472  113\n",
      "  103   32   15   16 5345   19  178   32    0    0    0    0    0    0\n",
      "    0    0    0    0    0    0    0    0    0    0    0    0    0    0\n",
      "    0    0    0    0    0    0    0    0    0    0    0    0    0    0\n",
      "    0    0    0    0]\n"
     ]
    }
   ],
   "source": [
    "print(train_data[0])"
   ]
  },
  {
   "cell_type": "markdown",
   "metadata": {},
   "source": [
    "## 모델 구성\n",
    "- 어떻게 모델을 구성할 것이가를 고민하자.\n",
    "- 얼마나 많은 층을 사용할 것인가, 은닉층은 얼마나 사용할 것인가 등"
   ]
  },
  {
   "cell_type": "code",
   "execution_count": 140,
   "metadata": {},
   "outputs": [
    {
     "name": "stdout",
     "output_type": "stream",
     "text": [
      "_________________________________________________________________\n",
      "Layer (type)                 Output Shape              Param #   \n",
      "=================================================================\n",
      "embedding_2 (Embedding)      (None, None, 16)          160000    \n",
      "_________________________________________________________________\n",
      "global_average_pooling1d_2 ( (None, 16)                0         \n",
      "_________________________________________________________________\n",
      "dense_2 (Dense)              (None, 16)                272       \n",
      "_________________________________________________________________\n",
      "dense_3 (Dense)              (None, 1)                 17        \n",
      "=================================================================\n",
      "Total params: 160,289\n",
      "Trainable params: 160,289\n",
      "Non-trainable params: 0\n",
      "_________________________________________________________________\n"
     ]
    }
   ],
   "source": [
    "vocab_size = 10000\n",
    "\n",
    "model = keras.Sequential()\n",
    "model.add(keras.layers.Embedding(vocab_size, 16, input_shape=(None,)))\n",
    "model.add(keras.layers.GlobalAveragePooling1D())\n",
    "model.add(keras.layers.Dense(16, activation='relu'))\n",
    "model.add(keras.layers.Dense(1, activation='sigmoid'))\n",
    "\n",
    "model.summary()"
   ]
  },
  {
   "cell_type": "markdown",
   "metadata": {},
   "source": [
    "#### - Embedding : 정수로 인코딩 단어 입력, 각 단어 인덱스 임베딩 벡터 찾음. (batch, sequence, embedding) -> (None, None, 16)\n",
    "#### - GlobalAveragePooling1D : sequence 차원에 대한 평균 계산하여 고정된 출력 벡터 반환\n",
    "#### - 나머지 층은 16 은닉 Fully connneted, 마지막층은 1 출력노드로 활성화함수는 0~1실수로 출력"
   ]
  },
  {
   "cell_type": "code",
   "execution_count": 141,
   "metadata": {},
   "outputs": [],
   "source": [
    "model.compile(optimizer='adam',\n",
    "              loss='binary_crossentropy',\n",
    "              metrics=['accuracy'])"
   ]
  },
  {
   "cell_type": "markdown",
   "metadata": {},
   "source": [
    "## 검증 세트 만들기\n",
    "- 훈련데이터에서 10000개 샘플만 떼어내서 validation set와 나머지 샘플로 실 훈련 set를 만듬"
   ]
  },
  {
   "cell_type": "code",
   "execution_count": 143,
   "metadata": {},
   "outputs": [],
   "source": [
    "x_val = train_data[:10000]\n",
    "partial_x_train = train_data[10000:]\n",
    "\n",
    "y_val = train_labels[:10000]\n",
    "partial_y_train = train_labels[10000:]"
   ]
  },
  {
   "cell_type": "markdown",
   "metadata": {},
   "source": [
    "## 모델 훈련"
   ]
  },
  {
   "cell_type": "code",
   "execution_count": 144,
   "metadata": {},
   "outputs": [
    {
     "name": "stdout",
     "output_type": "stream",
     "text": [
      "Train on 15000 samples, validate on 10000 samples\n",
      "WARNING:tensorflow:From c:\\anaconda3\\envs\\tensorflow\\lib\\site-packages\\tensorflow\\python\\ops\\math_ops.py:3066: to_int32 (from tensorflow.python.ops.math_ops) is deprecated and will be removed in a future version.\n",
      "Instructions for updating:\n",
      "Use tf.cast instead.\n",
      "Epoch 1/40\n",
      "15000/15000 [==============================] - 1s 50us/sample - loss: 0.6917 - acc: 0.6175 - val_loss: 0.6895 - val_acc: 0.6954\n",
      "Epoch 2/40\n",
      "15000/15000 [==============================] - 0s 13us/sample - loss: 0.6851 - acc: 0.7359 - val_loss: 0.6802 - val_acc: 0.7304\n",
      "Epoch 3/40\n",
      "15000/15000 [==============================] - 0s 14us/sample - loss: 0.6699 - acc: 0.7476 - val_loss: 0.6605 - val_acc: 0.7563\n",
      "Epoch 4/40\n",
      "15000/15000 [==============================] - 0s 14us/sample - loss: 0.6426 - acc: 0.7637 - val_loss: 0.6296 - val_acc: 0.7629\n",
      "Epoch 5/40\n",
      "15000/15000 [==============================] - 0s 14us/sample - loss: 0.6034 - acc: 0.7940 - val_loss: 0.5895 - val_acc: 0.7911\n",
      "Epoch 6/40\n",
      "15000/15000 [==============================] - 0s 13us/sample - loss: 0.5557 - acc: 0.8166 - val_loss: 0.5448 - val_acc: 0.8085\n",
      "Epoch 7/40\n",
      "15000/15000 [==============================] - 0s 13us/sample - loss: 0.5045 - acc: 0.8341 - val_loss: 0.4978 - val_acc: 0.8270\n",
      "Epoch 8/40\n",
      "15000/15000 [==============================] - 0s 13us/sample - loss: 0.4554 - acc: 0.8534 - val_loss: 0.4563 - val_acc: 0.8390\n",
      "Epoch 9/40\n",
      "15000/15000 [==============================] - 0s 13us/sample - loss: 0.4115 - acc: 0.8677 - val_loss: 0.4207 - val_acc: 0.8490\n",
      "Epoch 10/40\n",
      "15000/15000 [==============================] - 0s 13us/sample - loss: 0.3739 - acc: 0.8787 - val_loss: 0.3925 - val_acc: 0.8549\n",
      "Epoch 11/40\n",
      "15000/15000 [==============================] - 0s 14us/sample - loss: 0.3429 - acc: 0.8871 - val_loss: 0.3697 - val_acc: 0.8633\n",
      "Epoch 12/40\n",
      "15000/15000 [==============================] - 0s 13us/sample - loss: 0.3170 - acc: 0.8933 - val_loss: 0.3524 - val_acc: 0.8659\n",
      "Epoch 13/40\n",
      "15000/15000 [==============================] - 0s 14us/sample - loss: 0.2958 - acc: 0.9003 - val_loss: 0.3375 - val_acc: 0.8714\n",
      "Epoch 14/40\n",
      "15000/15000 [==============================] - 0s 13us/sample - loss: 0.2767 - acc: 0.9059 - val_loss: 0.3265 - val_acc: 0.8752\n",
      "Epoch 15/40\n",
      "15000/15000 [==============================] - 0s 12us/sample - loss: 0.2606 - acc: 0.9105 - val_loss: 0.3176 - val_acc: 0.8767\n",
      "Epoch 16/40\n",
      "15000/15000 [==============================] - 0s 13us/sample - loss: 0.2461 - acc: 0.9161 - val_loss: 0.3103 - val_acc: 0.8761\n",
      "Epoch 17/40\n",
      "15000/15000 [==============================] - 0s 13us/sample - loss: 0.2327 - acc: 0.9202 - val_loss: 0.3041 - val_acc: 0.8804\n",
      "Epoch 18/40\n",
      "15000/15000 [==============================] - 0s 14us/sample - loss: 0.2207 - acc: 0.9242 - val_loss: 0.2992 - val_acc: 0.8821\n",
      "Epoch 19/40\n",
      "15000/15000 [==============================] - 0s 13us/sample - loss: 0.2099 - acc: 0.9266 - val_loss: 0.2950 - val_acc: 0.8827\n",
      "Epoch 20/40\n",
      "15000/15000 [==============================] - 0s 13us/sample - loss: 0.2002 - acc: 0.9307 - val_loss: 0.2922 - val_acc: 0.8830\n",
      "Epoch 21/40\n",
      "15000/15000 [==============================] - 0s 14us/sample - loss: 0.1901 - acc: 0.9367 - val_loss: 0.2898 - val_acc: 0.8842\n",
      "Epoch 22/40\n",
      "15000/15000 [==============================] - 0s 13us/sample - loss: 0.1817 - acc: 0.9402 - val_loss: 0.2880 - val_acc: 0.8843\n",
      "Epoch 23/40\n",
      "15000/15000 [==============================] - 0s 14us/sample - loss: 0.1733 - acc: 0.9441 - val_loss: 0.2878 - val_acc: 0.8840\n",
      "Epoch 24/40\n",
      "15000/15000 [==============================] - 0s 14us/sample - loss: 0.1660 - acc: 0.9472 - val_loss: 0.2868 - val_acc: 0.8855\n",
      "Epoch 25/40\n",
      "15000/15000 [==============================] - 0s 13us/sample - loss: 0.1585 - acc: 0.9506 - val_loss: 0.2860 - val_acc: 0.8856\n",
      "Epoch 26/40\n",
      "15000/15000 [==============================] - 0s 13us/sample - loss: 0.1518 - acc: 0.9527 - val_loss: 0.2872 - val_acc: 0.8838\n",
      "Epoch 27/40\n",
      "15000/15000 [==============================] - 0s 13us/sample - loss: 0.1455 - acc: 0.9555 - val_loss: 0.2872 - val_acc: 0.8855\n",
      "Epoch 28/40\n",
      "15000/15000 [==============================] - 0s 15us/sample - loss: 0.1395 - acc: 0.9577 - val_loss: 0.2886 - val_acc: 0.8859\n",
      "Epoch 29/40\n",
      "15000/15000 [==============================] - 0s 13us/sample - loss: 0.1341 - acc: 0.9605 - val_loss: 0.2906 - val_acc: 0.8850\n",
      "Epoch 30/40\n",
      "15000/15000 [==============================] - 0s 14us/sample - loss: 0.1285 - acc: 0.9623 - val_loss: 0.2906 - val_acc: 0.8863\n",
      "Epoch 31/40\n",
      "15000/15000 [==============================] - 0s 14us/sample - loss: 0.1228 - acc: 0.9648 - val_loss: 0.2922 - val_acc: 0.8860\n",
      "Epoch 32/40\n",
      "15000/15000 [==============================] - 0s 13us/sample - loss: 0.1178 - acc: 0.9677 - val_loss: 0.2942 - val_acc: 0.8853\n",
      "Epoch 33/40\n",
      "15000/15000 [==============================] - 0s 14us/sample - loss: 0.1129 - acc: 0.9692 - val_loss: 0.2972 - val_acc: 0.8847\n",
      "Epoch 34/40\n",
      "15000/15000 [==============================] - 0s 14us/sample - loss: 0.1086 - acc: 0.9703 - val_loss: 0.3001 - val_acc: 0.8835\n",
      "Epoch 35/40\n",
      "15000/15000 [==============================] - 0s 14us/sample - loss: 0.1043 - acc: 0.9715 - val_loss: 0.3030 - val_acc: 0.8845\n",
      "Epoch 36/40\n",
      "15000/15000 [==============================] - 0s 14us/sample - loss: 0.1001 - acc: 0.9736 - val_loss: 0.3053 - val_acc: 0.8835\n",
      "Epoch 37/40\n",
      "15000/15000 [==============================] - 0s 13us/sample - loss: 0.0958 - acc: 0.9747 - val_loss: 0.3086 - val_acc: 0.8825\n",
      "Epoch 38/40\n",
      "15000/15000 [==============================] - 0s 13us/sample - loss: 0.0920 - acc: 0.9763 - val_loss: 0.3128 - val_acc: 0.8812\n",
      "Epoch 39/40\n",
      "15000/15000 [==============================] - 0s 13us/sample - loss: 0.0888 - acc: 0.9776 - val_loss: 0.3173 - val_acc: 0.8811\n",
      "Epoch 40/40\n",
      "15000/15000 [==============================] - 0s 13us/sample - loss: 0.0847 - acc: 0.9795 - val_loss: 0.3208 - val_acc: 0.8803\n"
     ]
    }
   ],
   "source": [
    "history = model.fit(partial_x_train,\n",
    "                    partial_y_train,\n",
    "                    epochs=40,\n",
    "                    batch_size=512,\n",
    "                    validation_data=(x_val, y_val),\n",
    "                    verbose=1)"
   ]
  },
  {
   "cell_type": "markdown",
   "metadata": {},
   "source": [
    "## 모델 평가"
   ]
  },
  {
   "cell_type": "code",
   "execution_count": 146,
   "metadata": {},
   "outputs": [
    {
     "name": "stdout",
     "output_type": "stream",
     "text": [
      "25000/25000 [==============================] - 1s 46us/sample - loss: 0.3426 - acc: 0.8693\n",
      "[0.34263786410331726, 0.86932]\n"
     ]
    }
   ],
   "source": [
    "results = model.evaluate(test_data,  test_labels, verbose=1)\n",
    "\n",
    "print(results)"
   ]
  },
  {
   "cell_type": "code",
   "execution_count": 147,
   "metadata": {},
   "outputs": [
    {
     "data": {
      "text/plain": [
       "<tensorflow.python.keras.callbacks.History at 0x171f9e23940>"
      ]
     },
     "execution_count": 147,
     "metadata": {},
     "output_type": "execute_result"
    }
   ],
   "source": [
    "history"
   ]
  },
  {
   "cell_type": "code",
   "execution_count": 152,
   "metadata": {},
   "outputs": [
    {
     "data": {
      "text/plain": [
       "dict_keys(['loss', 'acc', 'val_loss', 'val_acc'])"
      ]
     },
     "execution_count": 152,
     "metadata": {},
     "output_type": "execute_result"
    }
   ],
   "source": [
    "history_dict = history.history\n",
    "history_dict.keys()"
   ]
  },
  {
   "cell_type": "code",
   "execution_count": 156,
   "metadata": {},
   "outputs": [
    {
     "data": {
      "image/png": "[encoded data removed]",
      "text/plain": [
       "<Figure size 432x288 with 1 Axes>"
      ]
     },
     "metadata": {
      "needs_background": "light"
     },
     "output_type": "display_data"
    }
   ],
   "source": [
    "import matplotlib.pyplot as plt\n",
    "\n",
    "acc = history_dict[\"acc\"]\n",
    "val_acc = history_dict[\"val_acc\"]\n",
    "loss = history_dict[\"loss\"]\n",
    "val_loss = history_dict[\"val_loss\"]\n",
    "\n",
    "epochs= range(1, len(acc) + 1)\n",
    "\n",
    "# \"bo\"는 파란색점\n",
    "plt.plot(epochs, loss, 'bo', label='Training loss')\n",
    "# \"b\"는 파란실선\n",
    "plt.plot(epochs, val_loss, 'b', label='Validation loss')\n",
    "plt.title('Training and validation loss')\n",
    "plt.xlabel('Epochs')\n",
    "plt.ylabel('Loss')\n",
    "plt.legend()\n",
    "\n",
    "plt.show()"
   ]
  },
  {
   "cell_type": "code",
   "execution_count": 157,
   "metadata": {},
   "outputs": [
    {
     "data": {
      "text/plain": [
       "<Figure size 432x288 with 0 Axes>"
      ]
     },
     "metadata": {},
     "output_type": "display_data"
    }
   ],
   "source": [
    "plt.clf()   # 그림을 초기화합니다"
   ]
  },
  {
   "cell_type": "code",
   "execution_count": 158,
   "metadata": {},
   "outputs": [
    {
     "data": {
      "image/png": "[encoded data removed]",
      "text/plain": [
       "<Figure size 432x288 with 1 Axes>"
      ]
     },
     "metadata": {
      "needs_background": "light"
     },
     "output_type": "display_data"
    }
   ],
   "source": [
    "plt.plot(epochs, acc, 'bo', label='Training acc')\n",
    "plt.plot(epochs, val_acc, 'b', label='Validation acc')\n",
    "plt.title('Training and validation accuracy')\n",
    "plt.xlabel('Epochs')\n",
    "plt.ylabel('Accuracy')\n",
    "plt.legend()\n",
    "\n",
    "plt.show()"
   ]
  },
  {
   "cell_type": "code",
   "execution_count": null,
   "metadata": {},
   "outputs": [],
   "source": []
  }
 ],
 "metadata": {
  "kernelspec": {
   "display_name": "Python 3",
   "language": "python",
   "name": "python3"
  },
  "language_info": {
   "codemirror_mode": {
    "name": "ipython",
    "version": 3
   },
   "file_extension": ".py",
   "mimetype": "text/x-python",
   "name": "python",
   "nbconvert_exporter": "python",
   "pygments_lexer": "ipython3",
   "version": "3.6.10"
  }
 },
 "nbformat": 4,
 "nbformat_minor": 4
}
